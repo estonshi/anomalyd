{
 "cells": [
  {
   "cell_type": "code",
   "execution_count": 21,
   "id": "3fe806bf",
   "metadata": {},
   "outputs": [],
   "source": [
    "import pandas as pd\n",
    "import sys\n",
    "import importlib\n",
    "import connector"
   ]
  },
  {
   "cell_type": "code",
   "execution_count": 22,
   "id": "88fd79a9",
   "metadata": {},
   "outputs": [
    {
     "ename": "ImportError",
     "evalue": "module Victoriametrics not in sys.modules",
     "output_type": "error",
     "traceback": [
      "\u001b[0;31m---------------------------------------------------------------------------\u001b[0m",
      "\u001b[0;31mImportError\u001b[0m                               Traceback (most recent call last)",
      "Cell \u001b[0;32mIn[22], line 1\u001b[0m\n\u001b[0;32m----> 1\u001b[0m importlib\u001b[39m.\u001b[39mreload(Victoriametrics)\n\u001b[1;32m      2\u001b[0m \u001b[39mdef\u001b[39;00m \u001b[39mtest_victoriametrics\u001b[39m():\n\u001b[1;32m      3\u001b[0m     \u001b[39mprint\u001b[39m(\u001b[39m'\u001b[39m\u001b[39m- Check Victoriametrics\u001b[39m\u001b[39m'\u001b[39m)\n",
      "File \u001b[0;32m~/opt/anaconda3/envs/anomolyd/lib/python3.11/importlib/__init__.py:148\u001b[0m, in \u001b[0;36mreload\u001b[0;34m(module)\u001b[0m\n\u001b[1;32m    146\u001b[0m \u001b[39mif\u001b[39;00m sys\u001b[39m.\u001b[39mmodules\u001b[39m.\u001b[39mget(name) \u001b[39mis\u001b[39;00m \u001b[39mnot\u001b[39;00m module:\n\u001b[1;32m    147\u001b[0m     msg \u001b[39m=\u001b[39m \u001b[39m\"\u001b[39m\u001b[39mmodule \u001b[39m\u001b[39m{}\u001b[39;00m\u001b[39m not in sys.modules\u001b[39m\u001b[39m\"\u001b[39m\n\u001b[0;32m--> 148\u001b[0m     \u001b[39mraise\u001b[39;00m \u001b[39mImportError\u001b[39;00m(msg\u001b[39m.\u001b[39mformat(name), name\u001b[39m=\u001b[39mname)\n\u001b[1;32m    149\u001b[0m \u001b[39mif\u001b[39;00m name \u001b[39min\u001b[39;00m _RELOADING:\n\u001b[1;32m    150\u001b[0m     \u001b[39mreturn\u001b[39;00m _RELOADING[name]\n",
      "\u001b[0;31mImportError\u001b[0m: module Victoriametrics not in sys.modules"
     ]
    }
   ],
   "source": [
    "importlib.reload(connector)\n",
    "def test_victoriametrics():\n",
    "    print('- Check Victoriametrics')\n",
    "    vm=connector.Victoriametrics(datasource_url='http://192.168.163.17:8427/', tenant_id=1000, user='vmselect', password='select@ed4Q10')\n",
    "    query_args = {'query_name': 'test_query', 'sampling_period': '30s', 'query_length': '30m', 'queries': 'otel_process_runtime_jvm_classes_current_loaded {_host=\"srv-admin-2.ete01\"}/otel_process_runtime_jvm_classes_loaded_total{_host=\"srv-admin-2.ete01\"}'}\n",
    "    valid=vm.check_query_args(query_args)\n",
    "    if valid:\n",
    "        print('  - check_query_args : passed')\n",
    "    else:\n",
    "        print('  - check_query_args : FAILED')\n",
    "        return\n",
    "    err, values, labels = vm.query_series(**query_args)\n",
    "    if err is not None:\n",
    "        print('  - query_series : FAILED, ' + str(err))\n",
    "        return\n",
    "    else:\n",
    "        print('  - query_series : passed ')\n",
    "        print(values)\n",
    "        print(labels)\n",
    "    success=vm.insert_series(['test_query'], labels[labels.keys()[0]], values[values.keys()[0]])\n",
    "    if success:\n",
    "        print('  - insert_queries : passed')\n",
    "    else:\n",
    "        print('  - insert_queries : FAILED')\n",
    "        return"
   ]
  },
  {
   "cell_type": "code",
   "execution_count": 20,
   "id": "d8c7ee6b",
   "metadata": {},
   "outputs": [
    {
     "name": "stdout",
     "output_type": "stream",
     "text": [
      "- Check Victoriametrics\n",
      "  - check_query_args : passed\n"
     ]
    },
    {
     "ename": "ValueError",
     "evalue": "not enough values to unpack (expected 3, got 2)",
     "output_type": "error",
     "traceback": [
      "\u001b[0;31m---------------------------------------------------------------------------\u001b[0m",
      "\u001b[0;31mValueError\u001b[0m                                Traceback (most recent call last)",
      "Cell \u001b[0;32mIn[20], line 1\u001b[0m\n\u001b[0;32m----> 1\u001b[0m test_victoriametrics()\n",
      "Cell \u001b[0;32mIn[18], line 12\u001b[0m, in \u001b[0;36mtest_victoriametrics\u001b[0;34m()\u001b[0m\n\u001b[1;32m     10\u001b[0m     \u001b[39mprint\u001b[39m(\u001b[39m'\u001b[39m\u001b[39m  - check_query_args : FAILED\u001b[39m\u001b[39m'\u001b[39m)\n\u001b[1;32m     11\u001b[0m     \u001b[39mreturn\u001b[39;00m\n\u001b[0;32m---> 12\u001b[0m err, values, labels \u001b[39m=\u001b[39m vm\u001b[39m.\u001b[39mquery_series(\u001b[39m*\u001b[39m\u001b[39m*\u001b[39mquery_args)\n\u001b[1;32m     13\u001b[0m \u001b[39mif\u001b[39;00m err \u001b[39mis\u001b[39;00m \u001b[39mnot\u001b[39;00m \u001b[39mNone\u001b[39;00m:\n\u001b[1;32m     14\u001b[0m     \u001b[39mprint\u001b[39m(\u001b[39m'\u001b[39m\u001b[39m  - query_series : FAILED, \u001b[39m\u001b[39m'\u001b[39m \u001b[39m+\u001b[39m \u001b[39mstr\u001b[39m(err))\n",
      "\u001b[0;31mValueError\u001b[0m: not enough values to unpack (expected 3, got 2)"
     ]
    }
   ],
   "source": [
    "test_victoriametrics()"
   ]
  }
 ],
 "metadata": {
  "kernelspec": {
   "display_name": "anomolyd",
   "language": "python",
   "name": "python3"
  },
  "language_info": {
   "codemirror_mode": {
    "name": "ipython",
    "version": 3
   },
   "file_extension": ".py",
   "mimetype": "text/x-python",
   "name": "python",
   "nbconvert_exporter": "python",
   "pygments_lexer": "ipython3",
   "version": "3.11.8"
  },
  "vscode": {
   "interpreter": {
    "hash": "643378d7b236e11834297924188db66a5a1d09bf110afd9878c9e936af2f1724"
   }
  }
 },
 "nbformat": 4,
 "nbformat_minor": 5
}
